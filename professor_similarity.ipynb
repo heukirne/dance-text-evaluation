{
 "cells": [
  {
   "cell_type": "code",
   "execution_count": 53,
   "metadata": {
    "collapsed": true,
    "deletable": true,
    "editable": true
   },
   "outputs": [],
   "source": [
    "import pandas as pd\n",
    "import numpy as np\n",
    "import collections\n",
    "import matplotlib.pyplot as plt\n",
    "from sklearn.feature_extraction.text import TfidfVectorizer\n",
    "from sklearn.metrics.pairwise import cosine_similarity\n",
    "from nltk.corpus import stopwords\n",
    "\n",
    "comments = pd.read_csv('video_comments.tsv', sep='\\t')\n",
    "stopwords = stopwords.words(\"portuguese\")"
   ]
  },
  {
   "cell_type": "code",
   "execution_count": 54,
   "metadata": {
    "collapsed": false,
    "deletable": true,
    "editable": true
   },
   "outputs": [
    {
     "data": {
      "text/html": [
       "<div>\n",
       "<table border=\"1\" class=\"dataframe\">\n",
       "  <thead>\n",
       "    <tr>\n",
       "      <th></th>\n",
       "      <th colspan=\"2\" halign=\"left\">wc</th>\n",
       "    </tr>\n",
       "    <tr>\n",
       "      <th></th>\n",
       "      <th>count</th>\n",
       "      <th>mean</th>\n",
       "    </tr>\n",
       "    <tr>\n",
       "      <th>professor</th>\n",
       "      <th></th>\n",
       "      <th></th>\n",
       "    </tr>\n",
       "  </thead>\n",
       "  <tbody>\n",
       "    <tr>\n",
       "      <th>Expert 1</th>\n",
       "      <td>42</td>\n",
       "      <td>16.142857</td>\n",
       "    </tr>\n",
       "    <tr>\n",
       "      <th>Expert 2</th>\n",
       "      <td>48</td>\n",
       "      <td>12.416667</td>\n",
       "    </tr>\n",
       "    <tr>\n",
       "      <th>Expert 3</th>\n",
       "      <td>48</td>\n",
       "      <td>18.708333</td>\n",
       "    </tr>\n",
       "    <tr>\n",
       "      <th>Expert 4</th>\n",
       "      <td>48</td>\n",
       "      <td>22.833333</td>\n",
       "    </tr>\n",
       "    <tr>\n",
       "      <th>Expert 5</th>\n",
       "      <td>48</td>\n",
       "      <td>64.104167</td>\n",
       "    </tr>\n",
       "    <tr>\n",
       "      <th>Expert 6</th>\n",
       "      <td>48</td>\n",
       "      <td>12.270833</td>\n",
       "    </tr>\n",
       "  </tbody>\n",
       "</table>\n",
       "</div>"
      ],
      "text/plain": [
       "             wc           \n",
       "          count       mean\n",
       "professor                 \n",
       "Expert 1     42  16.142857\n",
       "Expert 2     48  12.416667\n",
       "Expert 3     48  18.708333\n",
       "Expert 4     48  22.833333\n",
       "Expert 5     48  64.104167\n",
       "Expert 6     48  12.270833"
      ]
     },
     "execution_count": 54,
     "metadata": {},
     "output_type": "execute_result"
    }
   ],
   "source": [
    "import re\n",
    "\n",
    "def wc(x): \n",
    "    try:\n",
    "        return len(re.findall(r'\\w+', x['comment']))\n",
    "    except:\n",
    "        return 0\n",
    "    \n",
    "comments['wc'] = comments.apply(wc,axis=1)\n",
    "comments = comments[comments['wc'] > 1]\n",
    "\n",
    "\n",
    "comments[['professor','wc']].groupby(['professor']).agg(['count','mean'])"
   ]
  },
  {
   "cell_type": "code",
   "execution_count": 60,
   "metadata": {
    "collapsed": false
   },
   "outputs": [
    {
     "data": {
      "text/plain": [
       "6"
      ]
     },
     "execution_count": 60,
     "metadata": {},
     "output_type": "execute_result"
    }
   ],
   "source": [
    "profList = collections.OrderedDict()\n",
    "for prof in comments['professor'].unique():\n",
    "    profList[prof] = comments[comments['professor'] == prof]['comment'].values\n",
    "    \n",
    "profTexts = []\n",
    "for prof in profList:\n",
    "    profTexts.append(\" \".join(profList[prof]))\n",
    "    \n",
    "len(profTexts) "
   ]
  },
  {
   "cell_type": "code",
   "execution_count": 62,
   "metadata": {
    "collapsed": false,
    "deletable": true,
    "editable": true
   },
   "outputs": [
    {
     "data": {
      "text/plain": [
       "array([[ 1.        ,  0.36708492,  0.31370451,  0.36120827,  0.43772348,\n",
       "         0.20136557],\n",
       "       [ 0.36708492,  1.        ,  0.22305922,  0.40441806,  0.50761112,\n",
       "         0.23038783],\n",
       "       [ 0.31370451,  0.22305922,  1.        ,  0.21604251,  0.43524291,\n",
       "         0.10448119],\n",
       "       [ 0.36120827,  0.40441806,  0.21604251,  1.        ,  0.47021379,\n",
       "         0.11061875],\n",
       "       [ 0.43772348,  0.50761112,  0.43524291,  0.47021379,  1.        ,\n",
       "         0.11766937],\n",
       "       [ 0.20136557,  0.23038783,  0.10448119,  0.11061875,  0.11766937,\n",
       "         1.        ]])"
      ]
     },
     "execution_count": 62,
     "metadata": {},
     "output_type": "execute_result"
    }
   ],
   "source": [
    "tfidf_vectorizer = TfidfVectorizer(max_features=100, strip_accents='unicode', stop_words=stopwords)\n",
    "tfidf_matrix = tfidf_vectorizer.fit_transform(profTexts)\n",
    "\n",
    "tfidf = TfidfVectorizer().fit_transform(profTexts)\n",
    "matrix = (tfidf_matrix * tfidf_matrix.T).A\n",
    "\n",
    "matrix"
   ]
  },
  {
   "cell_type": "code",
   "execution_count": 63,
   "metadata": {
    "collapsed": false,
    "deletable": true,
    "editable": true
   },
   "outputs": [
    {
     "data": {
      "text/plain": [
       "<matplotlib.colorbar.Colorbar at 0x7fc6b35240b8>"
      ]
     },
     "execution_count": 63,
     "metadata": {},
     "output_type": "execute_result"
    },
    {
     "data": {
      "image/png": "[encoded data removed]",
      "text/plain": [
       "<matplotlib.figure.Figure at 0x7fc6c2099f28>"
      ]
     },
     "metadata": {},
     "output_type": "display_data"
    }
   ],
   "source": [
    "%matplotlib inline\n",
    "\n",
    "fig, ax = plt.subplots(figsize=(len(matrix), len(matrix)))\n",
    "cax = ax.matshow(matrix)\n",
    "fig.colorbar(cax)"
   ]
  },
  {
   "cell_type": "code",
   "execution_count": null,
   "metadata": {
    "collapsed": true,
    "deletable": true,
    "editable": true
   },
   "outputs": [],
   "source": []
  }
 ],
 "metadata": {
  "kernelspec": {
   "display_name": "Python 3",
   "language": "python",
   "name": "python3"
  },
  "language_info": {
   "codemirror_mode": {
    "name": "ipython",
    "version": 3
   },
   "file_extension": ".py",
   "mimetype": "text/x-python",
   "name": "python",
   "nbconvert_exporter": "python",
   "pygments_lexer": "ipython3",
   "version": "3.5.2"
  }
 },
 "nbformat": 4,
 "nbformat_minor": 2
}
