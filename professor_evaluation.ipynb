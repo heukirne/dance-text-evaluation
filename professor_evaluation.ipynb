{
 "cells": [
  {
   "cell_type": "code",
   "execution_count": 1,
   "metadata": {},
   "outputs": [],
   "source": [
    "import pandas as pd\n",
    "import numpy as np\n",
    "from sklearn.model_selection import GridSearchCV, cross_val_score\n",
    "from sklearn.feature_extraction.text import TfidfVectorizer\n",
    "from sklearn.naive_bayes import MultinomialNB, GaussianNB\n",
    "from sklearn.metrics import precision_score, make_scorer, recall_score, f1_score\n",
    "from sklearn import svm\n",
    "from nltk.corpus import stopwords\n",
    "\n",
    "comments = pd.read_csv('video_comments.tsv', sep='\\t')\n",
    "stopwords = stopwords.words(\"portuguese\")"
   ]
  },
  {
   "cell_type": "code",
   "execution_count": 2,
   "metadata": {},
   "outputs": [
    {
     "data": {
      "text/html": [
       "<div>\n",
       "<table border=\"1\" class=\"dataframe\">\n",
       "  <thead>\n",
       "    <tr style=\"text-align: right;\">\n",
       "      <th></th>\n",
       "      <th>professor</th>\n",
       "      <th>ritmo</th>\n",
       "      <th>comment</th>\n",
       "    </tr>\n",
       "  </thead>\n",
       "  <tbody>\n",
       "    <tr>\n",
       "      <th>246</th>\n",
       "      <td>Expert 6</td>\n",
       "      <td>Não</td>\n",
       "      <td>Falta transferência de peso, braço/ombro esque...</td>\n",
       "    </tr>\n",
       "    <tr>\n",
       "      <th>76</th>\n",
       "      <td>Expert 2</td>\n",
       "      <td>Não</td>\n",
       "      <td>Uso desnecessário dos braços. Acelera muito a ...</td>\n",
       "    </tr>\n",
       "    <tr>\n",
       "      <th>44</th>\n",
       "      <td>Expert 1</td>\n",
       "      <td>Sim</td>\n",
       "      <td>NaN</td>\n",
       "    </tr>\n",
       "    <tr>\n",
       "      <th>98</th>\n",
       "      <td>Expert 3</td>\n",
       "      <td>Não</td>\n",
       "      <td>O movimento não tem qualidade, é um movimento ...</td>\n",
       "    </tr>\n",
       "    <tr>\n",
       "      <th>8</th>\n",
       "      <td>Expert 1</td>\n",
       "      <td>Não</td>\n",
       "      <td>Falta ela se soltar mais e sentir a música.  E...</td>\n",
       "    </tr>\n",
       "    <tr>\n",
       "      <th>212</th>\n",
       "      <td>Expert 5</td>\n",
       "      <td>Não</td>\n",
       "      <td>Participante nao se apresenta no ritmo e nao i...</td>\n",
       "    </tr>\n",
       "    <tr>\n",
       "      <th>69</th>\n",
       "      <td>Expert 2</td>\n",
       "      <td>Sim</td>\n",
       "      <td>Parece que ainda acelera um pouco.  Uso latera...</td>\n",
       "    </tr>\n",
       "    <tr>\n",
       "      <th>140</th>\n",
       "      <td>Expert 3</td>\n",
       "      <td>Não</td>\n",
       "      <td>Falta relaxamento das articulações (tornozelos...</td>\n",
       "    </tr>\n",
       "    <tr>\n",
       "      <th>213</th>\n",
       "      <td>Expert 5</td>\n",
       "      <td>Sim</td>\n",
       "      <td>Participante se apresenta no ritmo desde o pri...</td>\n",
       "    </tr>\n",
       "    <tr>\n",
       "      <th>46</th>\n",
       "      <td>Expert 1</td>\n",
       "      <td>Sim</td>\n",
       "      <td>Cuidar transferência de peso. Transfira todo o...</td>\n",
       "    </tr>\n",
       "  </tbody>\n",
       "</table>\n",
       "</div>"
      ],
      "text/plain": [
       "    professor ritmo                                            comment\n",
       "246  Expert 6   Não  Falta transferência de peso, braço/ombro esque...\n",
       "76   Expert 2   Não  Uso desnecessário dos braços. Acelera muito a ...\n",
       "44   Expert 1   Sim                                                NaN\n",
       "98   Expert 3   Não  O movimento não tem qualidade, é um movimento ...\n",
       "8    Expert 1   Não  Falta ela se soltar mais e sentir a música.  E...\n",
       "212  Expert 5   Não  Participante nao se apresenta no ritmo e nao i...\n",
       "69   Expert 2   Sim  Parece que ainda acelera um pouco.  Uso latera...\n",
       "140  Expert 3   Não  Falta relaxamento das articulações (tornozelos...\n",
       "213  Expert 5   Sim  Participante se apresenta no ritmo desde o pri...\n",
       "46   Expert 1   Sim  Cuidar transferência de peso. Transfira todo o..."
      ]
     },
     "execution_count": 2,
     "metadata": {},
     "output_type": "execute_result"
    }
   ],
   "source": [
    "comments.sample(10)"
   ]
  },
  {
   "cell_type": "markdown",
   "metadata": {},
   "source": [
    "### filter text"
   ]
  },
  {
   "cell_type": "code",
   "execution_count": 3,
   "metadata": {},
   "outputs": [],
   "source": [
    "import re\n",
    "\n",
    "def wc(x): \n",
    "    try:\n",
    "        return len(re.findall(r'\\w+', x['comment']))\n",
    "    except:\n",
    "        return 0\n",
    "    \n",
    "comments['wc'] = comments.apply(wc,axis=1)\n",
    "comments = comments[comments['wc'] > 1]\n",
    "\n",
    "target = comments['professor'].values"
   ]
  },
  {
   "cell_type": "markdown",
   "metadata": {},
   "source": [
    "### evaluate features with M NB"
   ]
  },
  {
   "cell_type": "code",
   "execution_count": 8,
   "metadata": {},
   "outputs": [
    {
     "name": "stderr",
     "output_type": "stream",
     "text": [
      "/usr/local/lib/python3.6/site-packages/sklearn/metrics/classification.py:1113: UndefinedMetricWarning: F-score is ill-defined and being set to 0.0 in labels with no predicted samples.\n",
      "  'precision', 'predicted', average, warn_for)\n",
      "/usr/local/lib/python3.6/site-packages/sklearn/metrics/classification.py:1113: UndefinedMetricWarning: F-score is ill-defined and being set to 0.0 in labels with no predicted samples.\n",
      "  'precision', 'predicted', average, warn_for)\n",
      "/usr/local/lib/python3.6/site-packages/sklearn/metrics/classification.py:1113: UndefinedMetricWarning: F-score is ill-defined and being set to 0.0 in labels with no predicted samples.\n",
      "  'precision', 'predicted', average, warn_for)\n",
      "/usr/local/lib/python3.6/site-packages/sklearn/metrics/classification.py:1113: UndefinedMetricWarning: Precision is ill-defined and being set to 0.0 in labels with no predicted samples.\n",
      "  'precision', 'predicted', average, warn_for)\n",
      "/usr/local/lib/python3.6/site-packages/sklearn/metrics/classification.py:1113: UndefinedMetricWarning: Precision is ill-defined and being set to 0.0 in labels with no predicted samples.\n",
      "  'precision', 'predicted', average, warn_for)\n",
      "/usr/local/lib/python3.6/site-packages/sklearn/metrics/classification.py:1113: UndefinedMetricWarning: Precision is ill-defined and being set to 0.0 in labels with no predicted samples.\n",
      "  'precision', 'predicted', average, warn_for)\n",
      "/usr/local/lib/python3.6/site-packages/sklearn/metrics/classification.py:1113: UndefinedMetricWarning: F-score is ill-defined and being set to 0.0 in labels with no predicted samples.\n",
      "  'precision', 'predicted', average, warn_for)\n"
     ]
    },
    {
     "name": "stdout",
     "output_type": "stream",
     "text": [
      "10: f1(0.5528), precision(0.6017), recall(0.5825)\n",
      "20: f1(0.6618), precision(0.7053), recall(0.6867)\n"
     ]
    },
    {
     "name": "stderr",
     "output_type": "stream",
     "text": [
      "/usr/local/lib/python3.6/site-packages/sklearn/metrics/classification.py:1113: UndefinedMetricWarning: Precision is ill-defined and being set to 0.0 in labels with no predicted samples.\n",
      "  'precision', 'predicted', average, warn_for)\n",
      "/usr/local/lib/python3.6/site-packages/sklearn/metrics/classification.py:1113: UndefinedMetricWarning: F-score is ill-defined and being set to 0.0 in labels with no predicted samples.\n",
      "  'precision', 'predicted', average, warn_for)\n",
      "/usr/local/lib/python3.6/site-packages/sklearn/metrics/classification.py:1113: UndefinedMetricWarning: Precision is ill-defined and being set to 0.0 in labels with no predicted samples.\n",
      "  'precision', 'predicted', average, warn_for)\n"
     ]
    },
    {
     "name": "stdout",
     "output_type": "stream",
     "text": [
      "30: f1(0.7199), precision(0.7756), recall(0.7375)\n",
      "40: f1(0.7332), precision(0.7934), recall(0.7458)\n"
     ]
    },
    {
     "name": "stderr",
     "output_type": "stream",
     "text": [
      "/usr/local/lib/python3.6/site-packages/sklearn/metrics/classification.py:1113: UndefinedMetricWarning: F-score is ill-defined and being set to 0.0 in labels with no predicted samples.\n",
      "  'precision', 'predicted', average, warn_for)\n",
      "/usr/local/lib/python3.6/site-packages/sklearn/metrics/classification.py:1113: UndefinedMetricWarning: Precision is ill-defined and being set to 0.0 in labels with no predicted samples.\n",
      "  'precision', 'predicted', average, warn_for)\n"
     ]
    },
    {
     "name": "stdout",
     "output_type": "stream",
     "text": [
      "50: f1(0.7175), precision(0.7643), recall(0.735)\n"
     ]
    },
    {
     "name": "stderr",
     "output_type": "stream",
     "text": [
      "/usr/local/lib/python3.6/site-packages/sklearn/metrics/classification.py:1113: UndefinedMetricWarning: F-score is ill-defined and being set to 0.0 in labels with no predicted samples.\n",
      "  'precision', 'predicted', average, warn_for)\n",
      "/usr/local/lib/python3.6/site-packages/sklearn/metrics/classification.py:1113: UndefinedMetricWarning: F-score is ill-defined and being set to 0.0 in labels with no predicted samples.\n",
      "  'precision', 'predicted', average, warn_for)\n",
      "/usr/local/lib/python3.6/site-packages/sklearn/metrics/classification.py:1113: UndefinedMetricWarning: Precision is ill-defined and being set to 0.0 in labels with no predicted samples.\n",
      "  'precision', 'predicted', average, warn_for)\n",
      "/usr/local/lib/python3.6/site-packages/sklearn/metrics/classification.py:1113: UndefinedMetricWarning: Precision is ill-defined and being set to 0.0 in labels with no predicted samples.\n",
      "  'precision', 'predicted', average, warn_for)\n",
      "/usr/local/lib/python3.6/site-packages/sklearn/metrics/classification.py:1113: UndefinedMetricWarning: F-score is ill-defined and being set to 0.0 in labels with no predicted samples.\n",
      "  'precision', 'predicted', average, warn_for)\n",
      "/usr/local/lib/python3.6/site-packages/sklearn/metrics/classification.py:1113: UndefinedMetricWarning: F-score is ill-defined and being set to 0.0 in labels with no predicted samples.\n",
      "  'precision', 'predicted', average, warn_for)\n"
     ]
    },
    {
     "name": "stdout",
     "output_type": "stream",
     "text": [
      "60: f1(0.6984), precision(0.7451), recall(0.7192)\n"
     ]
    },
    {
     "name": "stderr",
     "output_type": "stream",
     "text": [
      "/usr/local/lib/python3.6/site-packages/sklearn/metrics/classification.py:1113: UndefinedMetricWarning: Precision is ill-defined and being set to 0.0 in labels with no predicted samples.\n",
      "  'precision', 'predicted', average, warn_for)\n",
      "/usr/local/lib/python3.6/site-packages/sklearn/metrics/classification.py:1113: UndefinedMetricWarning: Precision is ill-defined and being set to 0.0 in labels with no predicted samples.\n",
      "  'precision', 'predicted', average, warn_for)\n",
      "/usr/local/lib/python3.6/site-packages/sklearn/metrics/classification.py:1113: UndefinedMetricWarning: F-score is ill-defined and being set to 0.0 in labels with no predicted samples.\n",
      "  'precision', 'predicted', average, warn_for)\n",
      "/usr/local/lib/python3.6/site-packages/sklearn/metrics/classification.py:1113: UndefinedMetricWarning: Precision is ill-defined and being set to 0.0 in labels with no predicted samples.\n",
      "  'precision', 'predicted', average, warn_for)\n"
     ]
    },
    {
     "name": "stdout",
     "output_type": "stream",
     "text": [
      "70: f1(0.7089), precision(0.7546), recall(0.7317)\n",
      "80: f1(0.7576), precision(0.7944), recall(0.7808)\n",
      "90: f1(0.807), precision(0.8512), recall(0.82)\n",
      "100: f1(0.8134), precision(0.8555), recall(0.8275)\n",
      "110: f1(0.8131), precision(0.8503), recall(0.8267)\n",
      "120: f1(0.8321), precision(0.8723), recall(0.8408)\n",
      "130: f1(0.8459), precision(0.8822), recall(0.8542)\n",
      "140: f1(0.8773), precision(0.9043), recall(0.88)\n"
     ]
    }
   ],
   "source": [
    "model = MultinomialNB(alpha=0.001)\n",
    "average = 'macro'\n",
    "\n",
    "for i in range(10,150,10):\n",
    "    data = TfidfVectorizer(max_features=i, strip_accents='unicode', stop_words=stopwords).fit_transform(comments.comment)\n",
    "\n",
    "    f1 = cross_val_score(model, data.toarray(), target, cv=10, scoring=make_scorer(f1_score, average=average)).mean()\n",
    "    recall = cross_val_score(model, data.toarray(), target, cv=10, scoring=make_scorer(recall_score, average=average)).mean()\n",
    "    precision = cross_val_score(model, data.toarray(), target, cv=10, scoring=make_scorer(precision_score, average=average)).mean()\n",
    "    \n",
    "    print(str(i) + ': ' + 'f1(' + str(round(f1,4)) \n",
    "          + '), precision(' + str(round(precision,4)) \n",
    "          + '), recall(' + str(round(recall,4)) + ')')"
   ]
  },
  {
   "cell_type": "markdown",
   "metadata": {},
   "source": [
    "### evaluate features with Linear SVM"
   ]
  },
  {
   "cell_type": "code",
   "execution_count": 9,
   "metadata": {},
   "outputs": [
    {
     "name": "stderr",
     "output_type": "stream",
     "text": [
      "/usr/local/lib/python3.6/site-packages/sklearn/metrics/classification.py:1113: UndefinedMetricWarning: F-score is ill-defined and being set to 0.0 in labels with no predicted samples.\n",
      "  'precision', 'predicted', average, warn_for)\n",
      "/usr/local/lib/python3.6/site-packages/sklearn/metrics/classification.py:1113: UndefinedMetricWarning: Precision is ill-defined and being set to 0.0 in labels with no predicted samples.\n",
      "  'precision', 'predicted', average, warn_for)\n",
      "/usr/local/lib/python3.6/site-packages/sklearn/metrics/classification.py:1113: UndefinedMetricWarning: F-score is ill-defined and being set to 0.0 in labels with no predicted samples.\n",
      "  'precision', 'predicted', average, warn_for)\n"
     ]
    },
    {
     "name": "stdout",
     "output_type": "stream",
     "text": [
      "10: f1(0.5922), precision(0.6701), recall(0.6125)\n"
     ]
    },
    {
     "name": "stderr",
     "output_type": "stream",
     "text": [
      "/usr/local/lib/python3.6/site-packages/sklearn/metrics/classification.py:1113: UndefinedMetricWarning: Precision is ill-defined and being set to 0.0 in labels with no predicted samples.\n",
      "  'precision', 'predicted', average, warn_for)\n"
     ]
    },
    {
     "name": "stdout",
     "output_type": "stream",
     "text": [
      "20: f1(0.6982), precision(0.7569), recall(0.72)\n",
      "30: f1(0.7602), precision(0.8011), recall(0.7708)\n",
      "40: f1(0.7936), precision(0.8389), recall(0.8008)\n",
      "50: f1(0.8007), precision(0.832), recall(0.81)\n",
      "60: f1(0.8013), precision(0.8338), recall(0.8092)\n",
      "70: f1(0.8229), precision(0.8572), recall(0.8258)\n",
      "80: f1(0.8441), precision(0.8749), recall(0.8525)\n",
      "90: f1(0.8767), precision(0.8989), recall(0.8825)\n",
      "100: f1(0.8749), precision(0.9041), recall(0.8758)\n",
      "110: f1(0.8668), precision(0.8919), recall(0.8742)\n",
      "120: f1(0.8928), precision(0.9154), recall(0.8958)\n",
      "130: f1(0.8932), precision(0.9133), recall(0.895)\n",
      "140: f1(0.8992), precision(0.9234), recall(0.8983)\n"
     ]
    }
   ],
   "source": [
    "model = svm.LinearSVC(C=2.15)\n",
    "average = 'macro'\n",
    "\n",
    "for i in range(10,150,10):\n",
    "    data = TfidfVectorizer(max_features=i, strip_accents='unicode', stop_words=stopwords).fit_transform(comments.comment)\n",
    "\n",
    "    f1 = cross_val_score(model, data.toarray(), target, cv=10, scoring=make_scorer(f1_score, average=average)).mean()\n",
    "    recall = cross_val_score(model, data.toarray(), target, cv=10, scoring=make_scorer(recall_score, average=average)).mean()\n",
    "    precision = cross_val_score(model, data.toarray(), target, cv=10, scoring=make_scorer(precision_score, average=average)).mean()\n",
    "    \n",
    "    print(str(i) + ': ' + 'f1(' + str(round(f1,4)) \n",
    "          + '), precision(' + str(round(precision,4)) \n",
    "          + '), recall(' + str(round(recall,4)) + ')')"
   ]
  },
  {
   "cell_type": "code",
   "execution_count": null,
   "metadata": {
    "collapsed": true
   },
   "outputs": [],
   "source": []
  }
 ],
 "metadata": {
  "kernelspec": {
   "display_name": "Python 3",
   "language": "python",
   "name": "python3"
  },
  "language_info": {
   "codemirror_mode": {
    "name": "ipython",
    "version": 3
   },
   "file_extension": ".py",
   "mimetype": "text/x-python",
   "name": "python",
   "nbconvert_exporter": "python",
   "pygments_lexer": "ipython3",
   "version": "3.6.1"
  }
 },
 "nbformat": 4,
 "nbformat_minor": 2
}
