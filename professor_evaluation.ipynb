{
 "cells": [
  {
   "cell_type": "code",
   "execution_count": 2,
   "metadata": {
    "collapsed": false,
    "deletable": true,
    "editable": true
   },
   "outputs": [],
   "source": [
    "import pandas as pd\n",
    "import numpy as np\n",
    "from sklearn.model_selection import GridSearchCV, cross_val_score\n",
    "from sklearn.feature_extraction.text import TfidfVectorizer\n",
    "from sklearn.naive_bayes import MultinomialNB, GaussianNB\n",
    "from sklearn.metrics import precision_score, make_scorer, recall_score, f1_score\n",
    "from sklearn import svm\n",
    "from nltk.corpus import stopwords\n",
    "\n",
    "comments = pd.read_csv('video_comments.tsv', sep='\\t')\n",
    "stopwords = stopwords.words(\"portuguese\")"
   ]
  },
  {
   "cell_type": "code",
   "execution_count": 3,
   "metadata": {
    "collapsed": false,
    "deletable": true,
    "editable": true
   },
   "outputs": [
    {
     "data": {
      "text/html": [
       "<div>\n",
       "<table border=\"1\" class=\"dataframe\">\n",
       "  <thead>\n",
       "    <tr style=\"text-align: right;\">\n",
       "      <th></th>\n",
       "      <th>professor</th>\n",
       "      <th>ritmo</th>\n",
       "      <th>comment</th>\n",
       "    </tr>\n",
       "  </thead>\n",
       "  <tbody>\n",
       "    <tr>\n",
       "      <th>10</th>\n",
       "      <td>Expert 1</td>\n",
       "      <td>Não</td>\n",
       "      <td>O aluno pode diminuir o tamanho do passo para ...</td>\n",
       "    </tr>\n",
       "    <tr>\n",
       "      <th>37</th>\n",
       "      <td>Expert 1</td>\n",
       "      <td>Sim</td>\n",
       "      <td>Soltar os braços para estar mais a vontade.</td>\n",
       "    </tr>\n",
       "    <tr>\n",
       "      <th>63</th>\n",
       "      <td>Expert 2</td>\n",
       "      <td>Não</td>\n",
       "      <td>Começa a musica na marcação errada.</td>\n",
       "    </tr>\n",
       "    <tr>\n",
       "      <th>201</th>\n",
       "      <td>Expert 5</td>\n",
       "      <td>Não</td>\n",
       "      <td>O participante iniciou a primiera marcacao for...</td>\n",
       "    </tr>\n",
       "    <tr>\n",
       "      <th>138</th>\n",
       "      <td>Expert 3</td>\n",
       "      <td>NaN</td>\n",
       "      <td>Não consigo avaliar o passo básico do xote com...</td>\n",
       "    </tr>\n",
       "    <tr>\n",
       "      <th>274</th>\n",
       "      <td>Expert 6</td>\n",
       "      <td>Não</td>\n",
       "      <td>Olhando para baixo prejudicando a postura, tr...</td>\n",
       "    </tr>\n",
       "    <tr>\n",
       "      <th>136</th>\n",
       "      <td>Expert 3</td>\n",
       "      <td>NaN</td>\n",
       "      <td>Não consigo avaliar o passo básico do xote com...</td>\n",
       "    </tr>\n",
       "    <tr>\n",
       "      <th>141</th>\n",
       "      <td>Expert 3</td>\n",
       "      <td>NaN</td>\n",
       "      <td>Não consigo avaliar o passo básico do xote com...</td>\n",
       "    </tr>\n",
       "    <tr>\n",
       "      <th>156</th>\n",
       "      <td>Expert 4</td>\n",
       "      <td>Não</td>\n",
       "      <td>O aluno deve trabalhar a pausa no meio do movi...</td>\n",
       "    </tr>\n",
       "    <tr>\n",
       "      <th>92</th>\n",
       "      <td>Expert 2</td>\n",
       "      <td>Não</td>\n",
       "      <td>Acelera entre  as marcações. Atropela</td>\n",
       "    </tr>\n",
       "  </tbody>\n",
       "</table>\n",
       "</div>"
      ],
      "text/plain": [
       "    professor ritmo                                            comment\n",
       "10   Expert 1   Não  O aluno pode diminuir o tamanho do passo para ...\n",
       "37   Expert 1   Sim        Soltar os braços para estar mais a vontade.\n",
       "63   Expert 2   Não                Começa a musica na marcação errada.\n",
       "201  Expert 5   Não  O participante iniciou a primiera marcacao for...\n",
       "138  Expert 3   NaN  Não consigo avaliar o passo básico do xote com...\n",
       "274  Expert 6   Não   Olhando para baixo prejudicando a postura, tr...\n",
       "136  Expert 3   NaN  Não consigo avaliar o passo básico do xote com...\n",
       "141  Expert 3   NaN  Não consigo avaliar o passo básico do xote com...\n",
       "156  Expert 4   Não  O aluno deve trabalhar a pausa no meio do movi...\n",
       "92   Expert 2   Não              Acelera entre  as marcações. Atropela"
      ]
     },
     "execution_count": 3,
     "metadata": {},
     "output_type": "execute_result"
    }
   ],
   "source": [
    "comments.sample(10)"
   ]
  },
  {
   "cell_type": "markdown",
   "metadata": {
    "deletable": true,
    "editable": true
   },
   "source": [
    "### filter text"
   ]
  },
  {
   "cell_type": "code",
   "execution_count": 4,
   "metadata": {
    "collapsed": false,
    "deletable": true,
    "editable": true
   },
   "outputs": [],
   "source": [
    "import re\n",
    "\n",
    "def wc(x): \n",
    "    try:\n",
    "        return len(re.findall(r'\\w+', x['comment']))\n",
    "    except:\n",
    "        return 0\n",
    "    \n",
    "comments['wc'] = comments.apply(wc,axis=1)\n",
    "comments = comments[comments['wc'] > 1]\n",
    "\n",
    "target = comments['professor'].values"
   ]
  },
  {
   "cell_type": "markdown",
   "metadata": {
    "deletable": true,
    "editable": true
   },
   "source": [
    "### evaluate features with M NB"
   ]
  },
  {
   "cell_type": "code",
   "execution_count": 5,
   "metadata": {
    "collapsed": false,
    "deletable": true,
    "editable": true
   },
   "outputs": [
    {
     "name": "stdout",
     "output_type": "stream",
     "text": [
      "100: f1(0.8134), precision(0.8555), recall(0.8275)\n",
      "200: f1(0.8952), precision(0.9208), recall(0.8975)\n",
      "300: f1(0.8912), precision(0.9181), recall(0.895)\n",
      "400: f1(0.9104), precision(0.9322), recall(0.9133)\n",
      "500: f1(0.9147), precision(0.9356), recall(0.9175)\n",
      "600: f1(0.9147), precision(0.9356), recall(0.9175)\n",
      "700: f1(0.9147), precision(0.9356), recall(0.9175)\n",
      "800: f1(0.9147), precision(0.9356), recall(0.9175)\n",
      "900: f1(0.9144), precision(0.935), recall(0.9175)\n",
      "1000: f1(0.9144), precision(0.935), recall(0.9175)\n",
      "1100: f1(0.9144), precision(0.935), recall(0.9175)\n",
      "1200: f1(0.9144), precision(0.935), recall(0.9175)\n",
      "1300: f1(0.9144), precision(0.935), recall(0.9175)\n",
      "1400: f1(0.9144), precision(0.935), recall(0.9175)\n",
      "1500: f1(0.9144), precision(0.935), recall(0.9175)\n",
      "1600: f1(0.9144), precision(0.935), recall(0.9175)\n",
      "1700: f1(0.9144), precision(0.935), recall(0.9175)\n",
      "1800: f1(0.9144), precision(0.935), recall(0.9175)\n",
      "1900: f1(0.9144), precision(0.935), recall(0.9175)\n"
     ]
    }
   ],
   "source": [
    "model = MultinomialNB(alpha=0.001)\n",
    "average = 'macro'\n",
    "\n",
    "for i in range(100,2000,100):\n",
    "    data = TfidfVectorizer(max_features=i, strip_accents='unicode', stop_words=stopwords).fit_transform(comments.comment)\n",
    "\n",
    "    f1 = cross_val_score(model, data.toarray(), target, cv=10, scoring=make_scorer(f1_score, average=average)).mean()\n",
    "    recall = cross_val_score(model, data.toarray(), target, cv=10, scoring=make_scorer(recall_score, average=average)).mean()\n",
    "    precision = cross_val_score(model, data.toarray(), target, cv=10, scoring=make_scorer(precision_score, average=average)).mean()\n",
    "    \n",
    "    print(str(i) + ': ' + 'f1(' + str(round(f1,4)) \n",
    "          + '), precision(' + str(round(precision,4)) \n",
    "          + '), recall(' + str(round(recall,4)) + ')')"
   ]
  },
  {
   "cell_type": "markdown",
   "metadata": {
    "deletable": true,
    "editable": true
   },
   "source": [
    "### evaluate features with Linear SVM"
   ]
  },
  {
   "cell_type": "code",
   "execution_count": 6,
   "metadata": {
    "collapsed": false,
    "deletable": true,
    "editable": true
   },
   "outputs": [
    {
     "name": "stdout",
     "output_type": "stream",
     "text": [
      "100: f1(0.8749), precision(0.9041), recall(0.8758)\n",
      "200: f1(0.9251), precision(0.9443), recall(0.9258)\n",
      "300: f1(0.9266), precision(0.9456), recall(0.9308)\n",
      "400: f1(0.9219), precision(0.9428), recall(0.9267)\n",
      "500: f1(0.9271), precision(0.9428), recall(0.9308)\n",
      "600: f1(0.9248), precision(0.9386), recall(0.9283)\n",
      "700: f1(0.9294), precision(0.943), recall(0.9317)\n",
      "800: f1(0.9289), precision(0.9408), recall(0.9317)\n",
      "900: f1(0.9359), precision(0.9479), recall(0.9392)\n",
      "1000: f1(0.9287), precision(0.9439), recall(0.9317)\n",
      "1100: f1(0.9287), precision(0.9439), recall(0.9317)\n",
      "1200: f1(0.9287), precision(0.9439), recall(0.9317)\n",
      "1300: f1(0.9287), precision(0.9439), recall(0.9317)\n",
      "1400: f1(0.9287), precision(0.9439), recall(0.9317)\n",
      "1500: f1(0.9287), precision(0.9439), recall(0.9317)\n",
      "1600: f1(0.9287), precision(0.9439), recall(0.9317)\n",
      "1700: f1(0.9287), precision(0.9439), recall(0.9317)\n",
      "1800: f1(0.9287), precision(0.9439), recall(0.9317)\n",
      "1900: f1(0.9287), precision(0.9439), recall(0.9317)\n"
     ]
    }
   ],
   "source": [
    "model = svm.LinearSVC(C=2.15)\n",
    "average = 'macro'\n",
    "\n",
    "for i in range(100,2000,100):\n",
    "    data = TfidfVectorizer(max_features=i, strip_accents='unicode', stop_words=stopwords).fit_transform(comments.comment)\n",
    "\n",
    "    f1 = cross_val_score(model, data.toarray(), target, cv=10, scoring=make_scorer(f1_score, average=average)).mean()\n",
    "    recall = cross_val_score(model, data.toarray(), target, cv=10, scoring=make_scorer(recall_score, average=average)).mean()\n",
    "    precision = cross_val_score(model, data.toarray(), target, cv=10, scoring=make_scorer(precision_score, average=average)).mean()\n",
    "    \n",
    "    print(str(i) + ': ' + 'f1(' + str(round(f1,4)) \n",
    "          + '), precision(' + str(round(precision,4)) \n",
    "          + '), recall(' + str(round(recall,4)) + ')')"
   ]
  },
  {
   "cell_type": "code",
   "execution_count": null,
   "metadata": {
    "collapsed": true,
    "deletable": true,
    "editable": true
   },
   "outputs": [],
   "source": []
  }
 ],
 "metadata": {
  "kernelspec": {
   "display_name": "Python 3",
   "language": "python",
   "name": "python3"
  },
  "language_info": {
   "codemirror_mode": {
    "name": "ipython",
    "version": 3
   },
   "file_extension": ".py",
   "mimetype": "text/x-python",
   "name": "python",
   "nbconvert_exporter": "python",
   "pygments_lexer": "ipython3",
   "version": "3.5.2"
  }
 },
 "nbformat": 4,
 "nbformat_minor": 2
}
