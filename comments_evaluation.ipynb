{
 "cells": [
  {
   "cell_type": "code",
   "execution_count": 36,
   "metadata": {
    "collapsed": false
   },
   "outputs": [],
   "source": [
    "import pandas as pd\n",
    "import numpy as np\n",
    "from sklearn.model_selection import GridSearchCV, cross_val_score\n",
    "from sklearn.feature_extraction.text import TfidfVectorizer\n",
    "from sklearn.naive_bayes import MultinomialNB, GaussianNB\n",
    "from sklearn import svm\n",
    "from nltk.corpus import stopwords\n",
    "\n",
    "comments = pd.read_csv('video_comments.tsv', sep='\\t')\n",
    "stopwords = stopwords.words(\"portuguese\")"
   ]
  },
  {
   "cell_type": "code",
   "execution_count": 37,
   "metadata": {
    "collapsed": false
   },
   "outputs": [
    {
     "data": {
      "text/html": [
       "<div>\n",
       "<table border=\"1\" class=\"dataframe\">\n",
       "  <thead>\n",
       "    <tr style=\"text-align: right;\">\n",
       "      <th></th>\n",
       "      <th>professor</th>\n",
       "      <th>ritmo</th>\n",
       "      <th>comment</th>\n",
       "    </tr>\n",
       "  </thead>\n",
       "  <tbody>\n",
       "    <tr>\n",
       "      <th>241</th>\n",
       "      <td>Expert 6</td>\n",
       "      <td>Não</td>\n",
       "      <td>Falta transferência de peso, braço/ombro esque...</td>\n",
       "    </tr>\n",
       "    <tr>\n",
       "      <th>117</th>\n",
       "      <td>Expert 3</td>\n",
       "      <td>Não</td>\n",
       "      <td>O participante está quase no ritmo da música m...</td>\n",
       "    </tr>\n",
       "    <tr>\n",
       "      <th>219</th>\n",
       "      <td>Expert 5</td>\n",
       "      <td>Sim</td>\n",
       "      <td>O participante se apresenta no ritmo durante t...</td>\n",
       "    </tr>\n",
       "    <tr>\n",
       "      <th>23</th>\n",
       "      <td>Expert 1</td>\n",
       "      <td>Sim</td>\n",
       "      <td>Olhar menos para o chão, soltar os braços e re...</td>\n",
       "    </tr>\n",
       "    <tr>\n",
       "      <th>111</th>\n",
       "      <td>Expert 3</td>\n",
       "      <td>Não</td>\n",
       "      <td>O participante ouve a música e consegue identi...</td>\n",
       "    </tr>\n",
       "    <tr>\n",
       "      <th>244</th>\n",
       "      <td>Expert 6</td>\n",
       "      <td>Não</td>\n",
       "      <td>Falta transferência de peso, braço/ombro esque...</td>\n",
       "    </tr>\n",
       "    <tr>\n",
       "      <th>124</th>\n",
       "      <td>Expert 3</td>\n",
       "      <td>Não</td>\n",
       "      <td>A participante está no compasso da música e re...</td>\n",
       "    </tr>\n",
       "    <tr>\n",
       "      <th>159</th>\n",
       "      <td>Expert 4</td>\n",
       "      <td>Sim</td>\n",
       "      <td>O aluno ainda não parece ter muita confiança n...</td>\n",
       "    </tr>\n",
       "    <tr>\n",
       "      <th>20</th>\n",
       "      <td>Expert 1</td>\n",
       "      <td>Sim</td>\n",
       "      <td>O aluno se atrapalhou algumas vezes, mas teve ...</td>\n",
       "    </tr>\n",
       "    <tr>\n",
       "      <th>42</th>\n",
       "      <td>Expert 1</td>\n",
       "      <td>Sim</td>\n",
       "      <td>O passo deve ser mais arrastado, sem ponta de ...</td>\n",
       "    </tr>\n",
       "  </tbody>\n",
       "</table>\n",
       "</div>"
      ],
      "text/plain": [
       "    professor ritmo                                            comment\n",
       "241  Expert 6   Não  Falta transferência de peso, braço/ombro esque...\n",
       "117  Expert 3   Não  O participante está quase no ritmo da música m...\n",
       "219  Expert 5   Sim  O participante se apresenta no ritmo durante t...\n",
       "23   Expert 1   Sim  Olhar menos para o chão, soltar os braços e re...\n",
       "111  Expert 3   Não  O participante ouve a música e consegue identi...\n",
       "244  Expert 6   Não  Falta transferência de peso, braço/ombro esque...\n",
       "124  Expert 3   Não  A participante está no compasso da música e re...\n",
       "159  Expert 4   Sim  O aluno ainda não parece ter muita confiança n...\n",
       "20   Expert 1   Sim  O aluno se atrapalhou algumas vezes, mas teve ...\n",
       "42   Expert 1   Sim  O passo deve ser mais arrastado, sem ponta de ..."
      ]
     },
     "execution_count": 37,
     "metadata": {},
     "output_type": "execute_result"
    }
   ],
   "source": [
    "comments.sample(10)"
   ]
  },
  {
   "cell_type": "markdown",
   "metadata": {},
   "source": [
    "### binary target"
   ]
  },
  {
   "cell_type": "code",
   "execution_count": 38,
   "metadata": {
    "collapsed": false
   },
   "outputs": [],
   "source": [
    "def classFit(x):\n",
    "    if x['ritmo'] == \"Sim\":\n",
    "        return 1\n",
    "    else:\n",
    "        return -1\n",
    "    \n",
    "comments['class'] = comments.apply(classFit,axis=1)"
   ]
  },
  {
   "cell_type": "markdown",
   "metadata": {},
   "source": [
    "### filter text"
   ]
  },
  {
   "cell_type": "code",
   "execution_count": 39,
   "metadata": {
    "collapsed": true
   },
   "outputs": [],
   "source": [
    "import re\n",
    "\n",
    "def wc(x): \n",
    "    try:\n",
    "        return len(re.findall(r'\\w+', x['comment']))\n",
    "    except:\n",
    "        return 0\n",
    "    \n",
    "comments['wc'] = comments.apply(wc,axis=1)\n",
    "comments = comments[comments['wc'] > 1]\n",
    "\n",
    "target = comments['class'].values"
   ]
  },
  {
   "cell_type": "markdown",
   "metadata": {},
   "source": [
    "### evaluate features with M NB"
   ]
  },
  {
   "cell_type": "code",
   "execution_count": 42,
   "metadata": {
    "collapsed": false
   },
   "outputs": [
    {
     "name": "stdout",
     "output_type": "stream",
     "text": [
      "100: f1(0.5698), acc(0.6797), precision(0.6536), recall(0.5727)\n",
      "200: f1(0.5271), acc(0.632), precision(0.5844), recall(0.5545)\n",
      "300: f1(0.5125), acc(0.6109), precision(0.5769), recall(0.5645)\n",
      "400: f1(0.5273), acc(0.6254), precision(0.5946), recall(0.5655)\n",
      "500: f1(0.4933), acc(0.6081), precision(0.5539), recall(0.5282)\n",
      "600: f1(0.4981), acc(0.6116), precision(0.5568), recall(0.5373)\n",
      "700: f1(0.5003), acc(0.6079), precision(0.5529), recall(0.5473)\n",
      "800: f1(0.4975), acc(0.601), precision(0.5418), recall(0.5473)\n",
      "900: f1(0.4914), acc(0.5899), precision(0.5331), recall(0.5473)\n",
      "1000: f1(0.4914), acc(0.5899), precision(0.5331), recall(0.5473)\n",
      "1100: f1(0.4914), acc(0.5899), precision(0.5331), recall(0.5473)\n",
      "1200: f1(0.4914), acc(0.5899), precision(0.5331), recall(0.5473)\n",
      "1300: f1(0.4914), acc(0.5899), precision(0.5331), recall(0.5473)\n",
      "1400: f1(0.4914), acc(0.5899), precision(0.5331), recall(0.5473)\n",
      "1500: f1(0.4914), acc(0.5899), precision(0.5331), recall(0.5473)\n",
      "1600: f1(0.4914), acc(0.5899), precision(0.5331), recall(0.5473)\n",
      "1700: f1(0.4914), acc(0.5899), precision(0.5331), recall(0.5473)\n",
      "1800: f1(0.4914), acc(0.5899), precision(0.5331), recall(0.5473)\n",
      "1900: f1(0.4914), acc(0.5899), precision(0.5331), recall(0.5473)\n"
     ]
    }
   ],
   "source": [
    "model = MultinomialNB(alpha=0.001)\n",
    "\n",
    "for i in range(100,2000,100):\n",
    "    data = TfidfVectorizer(max_features=i, strip_accents='unicode', stop_words=stopwords).fit_transform(comments.comment)\n",
    "\n",
    "    f1 = cross_val_score(model, data.toarray(), target, cv=10, scoring='f1').mean()\n",
    "    acc = cross_val_score(model, data.toarray(), target, cv=10, scoring='accuracy').mean()\n",
    "    recall = cross_val_score(model, data.toarray(), target, cv=10, scoring='recall').mean()\n",
    "    precision = cross_val_score(model, data.toarray(), target, cv=10, scoring='precision').mean()\n",
    "    \n",
    "    print(str(i) + ': ' + 'f1(' + str(round(f1,4)) \n",
    "          + '), acc(' + str(round(acc,4)) \n",
    "          + '), precision(' + str(round(precision,4)) \n",
    "          + '), recall(' + str(round(recall,4)) + ')')"
   ]
  },
  {
   "cell_type": "markdown",
   "metadata": {},
   "source": [
    "### evaluate features with Linear SVM"
   ]
  },
  {
   "cell_type": "code",
   "execution_count": 43,
   "metadata": {
    "collapsed": false
   },
   "outputs": [
    {
     "name": "stdout",
     "output_type": "stream",
     "text": [
      "100: f1(0.5204), acc(0.6299), precision(0.5609), recall(0.5491)\n",
      "200: f1(0.5297), acc(0.6187), precision(0.5356), recall(0.6)\n",
      "300: f1(0.5151), acc(0.6075), precision(0.5137), recall(0.5791)\n",
      "400: f1(0.5122), acc(0.6149), precision(0.5155), recall(0.5709)\n",
      "500: f1(0.5033), acc(0.6011), precision(0.5212), recall(0.5527)\n",
      "600: f1(0.5133), acc(0.6008), precision(0.5153), recall(0.5791)\n",
      "700: f1(0.4983), acc(0.5977), precision(0.5113), recall(0.5518)\n",
      "800: f1(0.526), acc(0.6255), precision(0.5249), recall(0.5891)\n",
      "900: f1(0.5265), acc(0.626), precision(0.5257), recall(0.59)\n",
      "1000: f1(0.5286), acc(0.6295), precision(0.5283), recall(0.59)\n",
      "1100: f1(0.5286), acc(0.6295), precision(0.5283), recall(0.59)\n",
      "1200: f1(0.5286), acc(0.6295), precision(0.5283), recall(0.59)\n",
      "1300: f1(0.5286), acc(0.6295), precision(0.5283), recall(0.59)\n",
      "1400: f1(0.5286), acc(0.6295), precision(0.5283), recall(0.59)\n",
      "1500: f1(0.5286), acc(0.6295), precision(0.5283), recall(0.59)\n",
      "1600: f1(0.5286), acc(0.6295), precision(0.5283), recall(0.59)\n",
      "1700: f1(0.5286), acc(0.6295), precision(0.5283), recall(0.59)\n",
      "1800: f1(0.5286), acc(0.6295), precision(0.5283), recall(0.59)\n",
      "1900: f1(0.5286), acc(0.6295), precision(0.5283), recall(0.59)\n"
     ]
    }
   ],
   "source": [
    "model = svm.LinearSVC(C=2.15)\n",
    "\n",
    "for i in range(100,2000,100):\n",
    "    data = TfidfVectorizer(max_features=i, strip_accents='unicode', stop_words=stopwords).fit_transform(comments.comment)\n",
    "\n",
    "    f1 = cross_val_score(model, data.toarray(), target, cv=10, scoring='f1').mean()\n",
    "    acc = cross_val_score(model, data.toarray(), target, cv=10, scoring='accuracy').mean()\n",
    "    recall = cross_val_score(model, data.toarray(), target, cv=10, scoring='recall').mean()\n",
    "    precision = cross_val_score(model, data.toarray(), target, cv=10, scoring='precision').mean()\n",
    "    \n",
    "    print(str(i) + ': ' + 'f1(' + str(round(f1,4)) \n",
    "          + '), acc(' + str(round(acc,4)) \n",
    "          + '), precision(' + str(round(precision,4)) \n",
    "          + '), recall(' + str(round(recall,4)) + ')')"
   ]
  },
  {
   "cell_type": "code",
   "execution_count": null,
   "metadata": {
    "collapsed": true
   },
   "outputs": [],
   "source": []
  }
 ],
 "metadata": {
  "kernelspec": {
   "display_name": "Python 3",
   "language": "python",
   "name": "python3"
  },
  "language_info": {
   "codemirror_mode": {
    "name": "ipython",
    "version": 3
   },
   "file_extension": ".py",
   "mimetype": "text/x-python",
   "name": "python",
   "nbconvert_exporter": "python",
   "pygments_lexer": "ipython3",
   "version": "3.5.2"
  }
 },
 "nbformat": 4,
 "nbformat_minor": 2
}
